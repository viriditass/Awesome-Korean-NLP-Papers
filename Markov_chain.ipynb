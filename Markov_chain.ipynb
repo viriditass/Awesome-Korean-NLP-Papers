{
  "nbformat": 4,
  "nbformat_minor": 0,
  "metadata": {
    "colab": {
      "name": "Markov chain.ipynb",
      "provenance": [],
      "authorship_tag": "ABX9TyPOTm7Rnvqh2ODlXrE1lcr1",
      "include_colab_link": true
    },
    "kernelspec": {
      "name": "python3",
      "display_name": "Python 3"
    }
  },
  "cells": [
    {
      "cell_type": "markdown",
      "metadata": {
        "id": "view-in-github",
        "colab_type": "text"
      },
      "source": [
        "<a href=\"https://colab.research.google.com/github/viriditass/Awesome-Korean-NLP-Papers/blob/master/Markov_chain.ipynb\" target=\"_parent\"><img src=\"https://colab.research.google.com/assets/colab-badge.svg\" alt=\"Open In Colab\"/></a>"
      ]
    },
    {
      "cell_type": "markdown",
      "metadata": {
        "id": "FnZ68jqpwEWA"
      },
      "source": [
        "# **Markov chain**"
      ]
    },
    {
      "cell_type": "markdown",
      "metadata": {
        "id": "REfdXoku7V1e"
      },
      "source": [
        "## **1. What is Markov chanin?**"
      ]
    },
    {
      "cell_type": "markdown",
      "metadata": {
        "id": "vhYsSbPT7cf_"
      },
      "source": [
        "마크코프 체인의 정의란 마크코프 성질을 가진 이산 확률과정을 뜻한다.\r\n",
        "\r\n",
        "**마크로프 성질**은 **'과거와 현재 상태가 주어졌을 때의 미래 상태의 조건부 확률 분포가 과거가 아닌 오직 현재 상태에 의해서만 결정된다'**라는 것을 뜻한다."
      ]
    },
    {
      "cell_type": "markdown",
      "metadata": {
        "id": "0hDU0Rh-HEzg"
      },
      "source": [
        "## **2. Example**"
      ]
    },
    {
      "cell_type": "markdown",
      "metadata": {
        "id": "7w98xnYqHKB6"
      },
      "source": [
        "이해를 돕기 위해 예시를 들겠다.\r\n",
        "\r\n",
        "아래의 조건을 따르는 신기한 레스토랑이 있다.\r\n",
        "- 치킨, 피자, 햄버거 중 하루에 단 1개만 요리를 해서 서빙한다.\r\n",
        "- 어제 무엇을 먹었는지에 따라 그 다음날에 무엇을 서빙할지 예측하는 방법이 있다.\r\n",
        "- 위에서 말한 예측 방법은 아래의 이미지에 해당한다."
      ]
    },
    {
      "cell_type": "markdown",
      "metadata": {
        "id": "edYFic1q9Iab"
      },
      "source": [
        "위의 그림에 나온 전이 확률을 다시 적어보자면,\r\n",
        "- 치킨 => 치킨로 전이할 확률은 0.2\r\n",
        "- 치킨 => 피자로 전이할 확률은 0.6\r\n",
        "- 치킨 => 햄버거로 전이할 확률은 0.2\r\n",
        "- 피자 => 치킨로 전이할 확률은 0.3\r\n",
        "- 피자 => 피자로 전이할 확률은 0.0\r\n",
        "- 피자 => 햄버거로 전이할 확률은 0.7\r\n",
        "- 햄버거 => 치킨로 전이할 확률은 0.5\r\n",
        "- 햄버거 => 피자로 전이할 확률은 0\r\n",
        "- 햄버거 => 햄버거로 전이할 확률은 0.5"
      ]
    },
    {
      "cell_type": "markdown",
      "metadata": {
        "id": "A_987B_jJVFh"
      },
      "source": [
        "만일 [1일: 피자], [2일: 치킨], [3일: 피자]\r\n",
        "\r\n",
        "일때, [4일: 햄버거]일 확률은 얼마나 될까?"
      ]
    },
    {
      "cell_type": "markdown",
      "metadata": {
        "id": "TtoqH41WJ5QQ"
      },
      "source": [
        "바로 0.7이다."
      ]
    },
    {
      "cell_type": "markdown",
      "metadata": {
        "id": "TVgoIaiXJ-tF"
      },
      "source": [
        "그 이유는 바로 마로코프 체인은 위에서 말했다 싶이 미래의 일은 과거가 아닌 오직 현재만 영향을 끼치기 때문에, 피자에서 햄버거로 전이할 확률인 0.7이 된다."
      ]
    },
    {
      "cell_type": "markdown",
      "metadata": {
        "id": "gFnR1aNoKQUH"
      },
      "source": [
        "이를 수식으로 나타내면\r\n",
        "\r\n",
        "- P(X(n+1)=x | X1 = x1, X2 = x2, X3 = x3... X(n) = x(n)) = P(X(n+1)=x | X(n) = x(n))\r\n",
        "\r\n",
        "이다.\r\n"
      ]
    },
    {
      "cell_type": "markdown",
      "metadata": {
        "id": "gUix1O_TKwcE"
      },
      "source": [
        "### **Random walk**"
      ]
    },
    {
      "cell_type": "markdown",
      "metadata": {
        "id": "U4-0Z_6EJKK3"
      },
      "source": [
        "10개를 무작위로 뽑아,\r\n",
        "\r\n",
        "피자 => 치킨 => 치킨 => 햄버거 => 치킨 => 햄버거 => 햄버거 => 햄버거 => 치킨 => 피자\r\n",
        "\r\n",
        "이렇게 나왔을 경우, 이 경우 [치킨=0.4], [피자=0.2], [햄버거=0.4]의 확률을 가진다고 생각을 할 수 있다."
      ]
    },
    {
      "cell_type": "markdown",
      "metadata": {
        "id": "DFdJm0HPMmRG"
      },
      "source": [
        "하지만, 만일 10개가 아닌 1000개, 1000000개 이런식으로 무작위로 뽑았을 경우에도 이렇게 일일이 세야할까??"
      ]
    },
    {
      "cell_type": "markdown",
      "metadata": {
        "id": "LEISgnyZPUKa"
      },
      "source": [
        "이럴때 바로 마르코프 체인을 사용하게 된다. 자세한 내용은 아래의 코드를 참조하면 된다."
      ]
    },
    {
      "cell_type": "markdown",
      "metadata": {
        "id": "DA_4fipuNcTH"
      },
      "source": [
        "이렇게 많은 횟수를 반복하다보면 어느 순간에는 전이행렬이 변하지 않는 상태가 오는데 이를 두고 **안정상태(steady state)**라고 부르고, 확률이 직전 상태와 동일하게 수렴하게 된다. 또한, 이러한 확률 분포를 **정적 분포(Stationary Distribution)**라고 부른다."
      ]
    },
    {
      "cell_type": "markdown",
      "metadata": {
        "id": "E4f2E309PhdP"
      },
      "source": [
        "### **Python**"
      ]
    },
    {
      "cell_type": "code",
      "metadata": {
        "colab": {
          "base_uri": "https://localhost:8080/"
        },
        "id": "iMuk-LgSwJfL",
        "outputId": "640ef025-43f8-47d4-c741-761fe4974393"
      },
      "source": [
        "import numpy as np\r\n",
        "\r\n",
        "p = np.array([0.2, 0.6, 0.2, 0.3, 0, 0.7, 0.5, 0, 0.5]).reshape(3,3)\r\n",
        "\r\n",
        "a = np.array([0, 1, 0])\r\n",
        "\r\n",
        "for i in range(0, 1000):\r\n",
        "  a = np.dot(a, p)\r\n",
        "\r\n",
        "print(a)"
      ],
      "execution_count": 1,
      "outputs": [
        {
          "output_type": "stream",
          "text": [
            "[0.35211268 0.21126761 0.43661972]\n"
          ],
          "name": "stdout"
        }
      ]
    },
    {
      "cell_type": "markdown",
      "metadata": {
        "id": "mBcCdvduPlcm"
      },
      "source": [
        "즉, 최종적으로 이 레스토랑은 약 0.35 확률로 치킨을 제공하고 약 0.21 확률로 피자를 제공하고 약 0.44 확률로 햄버거를 제공하게 된다."
      ]
    },
    {
      "cell_type": "markdown",
      "metadata": {
        "id": "4eyT9YC9P51f"
      },
      "source": [
        "이 기술을 사용하면 실제로 하나 이상의 고정된 상태를 어떻게 확인하는지 알 수 있다."
      ]
    }
  ]
}