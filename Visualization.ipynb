{
  "nbformat": 4,
  "nbformat_minor": 0,
  "metadata": {
    "colab": {
      "name": "Visualization.ipynb",
      "provenance": [],
      "mount_file_id": "1iJYz452dOgFNK0o4CAsZ3ICryV0ycMKb",
      "authorship_tag": "ABX9TyOoDSYB9ZwqLpXjzfKmIdc9",
      "include_colab_link": true
    },
    "kernelspec": {
      "name": "python3",
      "display_name": "Python 3"
    }
  },
  "cells": [
    {
      "cell_type": "markdown",
      "metadata": {
        "id": "view-in-github",
        "colab_type": "text"
      },
      "source": [
        "<a href=\"https://colab.research.google.com/github/viriditass/Awesome-Korean-NLP-Papers/blob/master/Visualization.ipynb\" target=\"_parent\"><img src=\"https://colab.research.google.com/assets/colab-badge.svg\" alt=\"Open In Colab\"/></a>"
      ]
    },
    {
      "cell_type": "code",
      "metadata": {
        "colab": {
          "base_uri": "https://localhost:8080/"
        },
        "id": "bvH-aYe5epvu",
        "outputId": "2528f4c7-8e8b-4b9a-e21e-f83ec07c4ef1"
      },
      "source": [
        "cd /content/drive/MyDrive/dacon-LG/data"
      ],
      "execution_count": 1,
      "outputs": [
        {
          "output_type": "stream",
          "text": [
            "/content/drive/MyDrive/dacon-LG/data\n"
          ],
          "name": "stdout"
        }
      ]
    },
    {
      "cell_type": "code",
      "metadata": {
        "colab": {
          "base_uri": "https://localhost:8080/"
        },
        "id": "JQa6it1fg8Do",
        "outputId": "fb2901df-6553-49cc-d65e-014689f86beb"
      },
      "source": [
        "ls"
      ],
      "execution_count": 2,
      "outputs": [
        {
          "output_type": "stream",
          "text": [
            "AutoML.csv      sample_submission.csv  train_err_data.csv\n",
            "\u001b[0m\u001b[01;34mcatboost_info\u001b[0m/  test_err_data.csv      train_problem_data.csv\n",
            "logs.log        test_quality_data.csv  train_quality_data.csv\n"
          ],
          "name": "stdout"
        }
      ]
    },
    {
      "cell_type": "code",
      "metadata": {
        "id": "VfUJYB77g8lt"
      },
      "source": [
        "import numpy as np\r\n",
        "import pandas as pd\r\n",
        "import matplotlib.pyplot as plt\r\n",
        "import seaborn as sns\r\n",
        "\r\n",
        "plt.style.use('seaborn-deep')\r\n",
        "sns.set(font_scale=2)"
      ],
      "execution_count": 3,
      "outputs": []
    },
    {
      "cell_type": "code",
      "metadata": {
        "colab": {
          "base_uri": "https://localhost:8080/"
        },
        "id": "nvclShmwiN8u",
        "outputId": "ab42a5ae-bf4e-43b5-f88e-c59cf5db87e0"
      },
      "source": [
        "train_err = pd.read_csv('./train_err_data.csv')\r\n",
        "train_quality = pd.read_csv('./train_quality_data.csv')\r\n",
        "train_problem = pd.read_csv('./train_problem_data.csv')"
      ],
      "execution_count": 4,
      "outputs": [
        {
          "output_type": "stream",
          "text": [
            "/usr/local/lib/python3.6/dist-packages/IPython/core/interactiveshell.py:2718: DtypeWarning: Columns (10,11,12) have mixed types.Specify dtype option on import or set low_memory=False.\n",
            "  interactivity=interactivity, compiler=compiler, result=result)\n"
          ],
          "name": "stderr"
        }
      ]
    },
    {
      "cell_type": "code",
      "metadata": {
        "colab": {
          "base_uri": "https://localhost:8080/",
          "height": 195
        },
        "id": "bGkUuAAdioDZ",
        "outputId": "429880c8-d53f-44ea-b8d9-45c8762e8bac"
      },
      "source": [
        "train_err.head()"
      ],
      "execution_count": 5,
      "outputs": [
        {
          "output_type": "execute_result",
          "data": {
            "text/html": [
              "<div>\n",
              "<style scoped>\n",
              "    .dataframe tbody tr th:only-of-type {\n",
              "        vertical-align: middle;\n",
              "    }\n",
              "\n",
              "    .dataframe tbody tr th {\n",
              "        vertical-align: top;\n",
              "    }\n",
              "\n",
              "    .dataframe thead th {\n",
              "        text-align: right;\n",
              "    }\n",
              "</style>\n",
              "<table border=\"1\" class=\"dataframe\">\n",
              "  <thead>\n",
              "    <tr style=\"text-align: right;\">\n",
              "      <th></th>\n",
              "      <th>user_id</th>\n",
              "      <th>time</th>\n",
              "      <th>model_nm</th>\n",
              "      <th>fwver</th>\n",
              "      <th>errtype</th>\n",
              "      <th>errcode</th>\n",
              "    </tr>\n",
              "  </thead>\n",
              "  <tbody>\n",
              "    <tr>\n",
              "      <th>0</th>\n",
              "      <td>10000</td>\n",
              "      <td>20201101025616</td>\n",
              "      <td>model_3</td>\n",
              "      <td>05.15.2138</td>\n",
              "      <td>15</td>\n",
              "      <td>1</td>\n",
              "    </tr>\n",
              "    <tr>\n",
              "      <th>1</th>\n",
              "      <td>10000</td>\n",
              "      <td>20201101030309</td>\n",
              "      <td>model_3</td>\n",
              "      <td>05.15.2138</td>\n",
              "      <td>12</td>\n",
              "      <td>1</td>\n",
              "    </tr>\n",
              "    <tr>\n",
              "      <th>2</th>\n",
              "      <td>10000</td>\n",
              "      <td>20201101030309</td>\n",
              "      <td>model_3</td>\n",
              "      <td>05.15.2138</td>\n",
              "      <td>11</td>\n",
              "      <td>1</td>\n",
              "    </tr>\n",
              "    <tr>\n",
              "      <th>3</th>\n",
              "      <td>10000</td>\n",
              "      <td>20201101050514</td>\n",
              "      <td>model_3</td>\n",
              "      <td>05.15.2138</td>\n",
              "      <td>16</td>\n",
              "      <td>1</td>\n",
              "    </tr>\n",
              "    <tr>\n",
              "      <th>4</th>\n",
              "      <td>10000</td>\n",
              "      <td>20201101050515</td>\n",
              "      <td>model_3</td>\n",
              "      <td>05.15.2138</td>\n",
              "      <td>4</td>\n",
              "      <td>0</td>\n",
              "    </tr>\n",
              "  </tbody>\n",
              "</table>\n",
              "</div>"
            ],
            "text/plain": [
              "   user_id            time model_nm       fwver  errtype errcode\n",
              "0    10000  20201101025616  model_3  05.15.2138       15       1\n",
              "1    10000  20201101030309  model_3  05.15.2138       12       1\n",
              "2    10000  20201101030309  model_3  05.15.2138       11       1\n",
              "3    10000  20201101050514  model_3  05.15.2138       16       1\n",
              "4    10000  20201101050515  model_3  05.15.2138        4       0"
            ]
          },
          "metadata": {
            "tags": []
          },
          "execution_count": 5
        }
      ]
    },
    {
      "cell_type": "code",
      "metadata": {
        "colab": {
          "base_uri": "https://localhost:8080/"
        },
        "id": "1DJw8Vvfi3RV",
        "outputId": "d807d52b-6d0d-4fb3-e7d8-67b8632a6d5a"
      },
      "source": [
        "train_err.isnull().sum()"
      ],
      "execution_count": 8,
      "outputs": [
        {
          "output_type": "execute_result",
          "data": {
            "text/plain": [
              "user_id     0\n",
              "time        0\n",
              "model_nm    0\n",
              "fwver       0\n",
              "errtype     0\n",
              "errcode     1\n",
              "dtype: int64"
            ]
          },
          "metadata": {
            "tags": []
          },
          "execution_count": 8
        }
      ]
    },
    {
      "cell_type": "code",
      "metadata": {
        "colab": {
          "base_uri": "https://localhost:8080/"
        },
        "id": "W_rmsd21jSoJ",
        "outputId": "a1c39b9d-2132-4e4e-bbdf-e1f46d9ffd2f"
      },
      "source": [
        "train_err.info()"
      ],
      "execution_count": 10,
      "outputs": [
        {
          "output_type": "stream",
          "text": [
            "<class 'pandas.core.frame.DataFrame'>\n",
            "RangeIndex: 16554663 entries, 0 to 16554662\n",
            "Data columns (total 6 columns):\n",
            " #   Column    Dtype \n",
            "---  ------    ----- \n",
            " 0   user_id   int64 \n",
            " 1   time      int64 \n",
            " 2   model_nm  object\n",
            " 3   fwver     object\n",
            " 4   errtype   int64 \n",
            " 5   errcode   object\n",
            "dtypes: int64(3), object(3)\n",
            "memory usage: 757.8+ MB\n"
          ],
          "name": "stdout"
        }
      ]
    },
    {
      "cell_type": "code",
      "metadata": {
        "colab": {
          "base_uri": "https://localhost:8080/",
          "height": 284
        },
        "id": "cTBQ3Zfmjavu",
        "outputId": "7abe14e8-1efe-4c3a-9cdd-24aef6177245"
      },
      "source": [
        "train_err.describe()"
      ],
      "execution_count": 13,
      "outputs": [
        {
          "output_type": "execute_result",
          "data": {
            "text/html": [
              "<div>\n",
              "<style scoped>\n",
              "    .dataframe tbody tr th:only-of-type {\n",
              "        vertical-align: middle;\n",
              "    }\n",
              "\n",
              "    .dataframe tbody tr th {\n",
              "        vertical-align: top;\n",
              "    }\n",
              "\n",
              "    .dataframe thead th {\n",
              "        text-align: right;\n",
              "    }\n",
              "</style>\n",
              "<table border=\"1\" class=\"dataframe\">\n",
              "  <thead>\n",
              "    <tr style=\"text-align: right;\">\n",
              "      <th></th>\n",
              "      <th>user_id</th>\n",
              "      <th>time</th>\n",
              "      <th>errtype</th>\n",
              "    </tr>\n",
              "  </thead>\n",
              "  <tbody>\n",
              "    <tr>\n",
              "      <th>count</th>\n",
              "      <td>1.655466e+07</td>\n",
              "      <td>1.655466e+07</td>\n",
              "      <td>1.655466e+07</td>\n",
              "    </tr>\n",
              "    <tr>\n",
              "      <th>mean</th>\n",
              "      <td>1.758495e+04</td>\n",
              "      <td>2.020112e+13</td>\n",
              "      <td>2.128030e+01</td>\n",
              "    </tr>\n",
              "    <tr>\n",
              "      <th>std</th>\n",
              "      <td>4.341885e+03</td>\n",
              "      <td>8.664375e+06</td>\n",
              "      <td>9.943175e+00</td>\n",
              "    </tr>\n",
              "    <tr>\n",
              "      <th>min</th>\n",
              "      <td>1.000000e+04</td>\n",
              "      <td>2.020103e+13</td>\n",
              "      <td>1.000000e+00</td>\n",
              "    </tr>\n",
              "    <tr>\n",
              "      <th>25%</th>\n",
              "      <td>1.392500e+04</td>\n",
              "      <td>2.020111e+13</td>\n",
              "      <td>1.500000e+01</td>\n",
              "    </tr>\n",
              "    <tr>\n",
              "      <th>50%</th>\n",
              "      <td>1.748500e+04</td>\n",
              "      <td>2.020112e+13</td>\n",
              "      <td>2.300000e+01</td>\n",
              "    </tr>\n",
              "    <tr>\n",
              "      <th>75%</th>\n",
              "      <td>2.122700e+04</td>\n",
              "      <td>2.020112e+13</td>\n",
              "      <td>3.100000e+01</td>\n",
              "    </tr>\n",
              "    <tr>\n",
              "      <th>max</th>\n",
              "      <td>2.499900e+04</td>\n",
              "      <td>2.020120e+13</td>\n",
              "      <td>4.200000e+01</td>\n",
              "    </tr>\n",
              "  </tbody>\n",
              "</table>\n",
              "</div>"
            ],
            "text/plain": [
              "            user_id          time       errtype\n",
              "count  1.655466e+07  1.655466e+07  1.655466e+07\n",
              "mean   1.758495e+04  2.020112e+13  2.128030e+01\n",
              "std    4.341885e+03  8.664375e+06  9.943175e+00\n",
              "min    1.000000e+04  2.020103e+13  1.000000e+00\n",
              "25%    1.392500e+04  2.020111e+13  1.500000e+01\n",
              "50%    1.748500e+04  2.020112e+13  2.300000e+01\n",
              "75%    2.122700e+04  2.020112e+13  3.100000e+01\n",
              "max    2.499900e+04  2.020120e+13  4.200000e+01"
            ]
          },
          "metadata": {
            "tags": []
          },
          "execution_count": 13
        }
      ]
    },
    {
      "cell_type": "code",
      "metadata": {
        "colab": {
          "base_uri": "https://localhost:8080/",
          "height": 215
        },
        "id": "C0Pp4ZCGiwj3",
        "outputId": "5afb2fb2-11d0-4b2e-998f-497034f23f6b"
      },
      "source": [
        "train_quality.head()"
      ],
      "execution_count": 6,
      "outputs": [
        {
          "output_type": "execute_result",
          "data": {
            "text/html": [
              "<div>\n",
              "<style scoped>\n",
              "    .dataframe tbody tr th:only-of-type {\n",
              "        vertical-align: middle;\n",
              "    }\n",
              "\n",
              "    .dataframe tbody tr th {\n",
              "        vertical-align: top;\n",
              "    }\n",
              "\n",
              "    .dataframe thead th {\n",
              "        text-align: right;\n",
              "    }\n",
              "</style>\n",
              "<table border=\"1\" class=\"dataframe\">\n",
              "  <thead>\n",
              "    <tr style=\"text-align: right;\">\n",
              "      <th></th>\n",
              "      <th>time</th>\n",
              "      <th>user_id</th>\n",
              "      <th>fwver</th>\n",
              "      <th>quality_0</th>\n",
              "      <th>quality_1</th>\n",
              "      <th>quality_2</th>\n",
              "      <th>quality_3</th>\n",
              "      <th>quality_4</th>\n",
              "      <th>quality_5</th>\n",
              "      <th>quality_6</th>\n",
              "      <th>quality_7</th>\n",
              "      <th>quality_8</th>\n",
              "      <th>quality_9</th>\n",
              "      <th>quality_10</th>\n",
              "      <th>quality_11</th>\n",
              "      <th>quality_12</th>\n",
              "    </tr>\n",
              "  </thead>\n",
              "  <tbody>\n",
              "    <tr>\n",
              "      <th>0</th>\n",
              "      <td>20201129090000</td>\n",
              "      <td>10000</td>\n",
              "      <td>05.15.2138</td>\n",
              "      <td>0.0</td>\n",
              "      <td>0</td>\n",
              "      <td>0.0</td>\n",
              "      <td>0</td>\n",
              "      <td>0</td>\n",
              "      <td>0</td>\n",
              "      <td>0</td>\n",
              "      <td>0</td>\n",
              "      <td>0</td>\n",
              "      <td>0</td>\n",
              "      <td>4</td>\n",
              "      <td>0</td>\n",
              "      <td>0</td>\n",
              "    </tr>\n",
              "    <tr>\n",
              "      <th>1</th>\n",
              "      <td>20201129090000</td>\n",
              "      <td>10000</td>\n",
              "      <td>05.15.2138</td>\n",
              "      <td>0.0</td>\n",
              "      <td>0</td>\n",
              "      <td>0.0</td>\n",
              "      <td>0</td>\n",
              "      <td>0</td>\n",
              "      <td>0</td>\n",
              "      <td>0</td>\n",
              "      <td>0</td>\n",
              "      <td>0</td>\n",
              "      <td>0</td>\n",
              "      <td>4</td>\n",
              "      <td>0</td>\n",
              "      <td>0</td>\n",
              "    </tr>\n",
              "    <tr>\n",
              "      <th>2</th>\n",
              "      <td>20201129090000</td>\n",
              "      <td>10000</td>\n",
              "      <td>05.15.2138</td>\n",
              "      <td>0.0</td>\n",
              "      <td>0</td>\n",
              "      <td>0.0</td>\n",
              "      <td>0</td>\n",
              "      <td>0</td>\n",
              "      <td>0</td>\n",
              "      <td>0</td>\n",
              "      <td>0</td>\n",
              "      <td>0</td>\n",
              "      <td>0</td>\n",
              "      <td>4</td>\n",
              "      <td>0</td>\n",
              "      <td>0</td>\n",
              "    </tr>\n",
              "    <tr>\n",
              "      <th>3</th>\n",
              "      <td>20201129090000</td>\n",
              "      <td>10000</td>\n",
              "      <td>05.15.2138</td>\n",
              "      <td>0.0</td>\n",
              "      <td>0</td>\n",
              "      <td>0.0</td>\n",
              "      <td>0</td>\n",
              "      <td>0</td>\n",
              "      <td>0</td>\n",
              "      <td>0</td>\n",
              "      <td>0</td>\n",
              "      <td>0</td>\n",
              "      <td>0</td>\n",
              "      <td>4</td>\n",
              "      <td>0</td>\n",
              "      <td>0</td>\n",
              "    </tr>\n",
              "    <tr>\n",
              "      <th>4</th>\n",
              "      <td>20201129090000</td>\n",
              "      <td>10000</td>\n",
              "      <td>05.15.2138</td>\n",
              "      <td>0.0</td>\n",
              "      <td>0</td>\n",
              "      <td>0.0</td>\n",
              "      <td>0</td>\n",
              "      <td>0</td>\n",
              "      <td>0</td>\n",
              "      <td>0</td>\n",
              "      <td>0</td>\n",
              "      <td>0</td>\n",
              "      <td>0</td>\n",
              "      <td>4</td>\n",
              "      <td>0</td>\n",
              "      <td>0</td>\n",
              "    </tr>\n",
              "  </tbody>\n",
              "</table>\n",
              "</div>"
            ],
            "text/plain": [
              "             time  user_id       fwver  ...  quality_10  quality_11  quality_12\n",
              "0  20201129090000    10000  05.15.2138  ...           4           0           0\n",
              "1  20201129090000    10000  05.15.2138  ...           4           0           0\n",
              "2  20201129090000    10000  05.15.2138  ...           4           0           0\n",
              "3  20201129090000    10000  05.15.2138  ...           4           0           0\n",
              "4  20201129090000    10000  05.15.2138  ...           4           0           0\n",
              "\n",
              "[5 rows x 16 columns]"
            ]
          },
          "metadata": {
            "tags": []
          },
          "execution_count": 6
        }
      ]
    },
    {
      "cell_type": "code",
      "metadata": {
        "colab": {
          "base_uri": "https://localhost:8080/"
        },
        "id": "ExlHk-Y4jMU-",
        "outputId": "43d4a3cf-9d54-4d7b-ed83-ce1293ac8eaf"
      },
      "source": [
        "train_quality.isnull().sum()"
      ],
      "execution_count": 9,
      "outputs": [
        {
          "output_type": "execute_result",
          "data": {
            "text/plain": [
              "time               0\n",
              "user_id            0\n",
              "fwver          40080\n",
              "quality_0     144432\n",
              "quality_1          0\n",
              "quality_2      40113\n",
              "quality_3          0\n",
              "quality_4          0\n",
              "quality_5         20\n",
              "quality_6          0\n",
              "quality_7          0\n",
              "quality_8          0\n",
              "quality_9          0\n",
              "quality_10         0\n",
              "quality_11         0\n",
              "quality_12         0\n",
              "dtype: int64"
            ]
          },
          "metadata": {
            "tags": []
          },
          "execution_count": 9
        }
      ]
    },
    {
      "cell_type": "code",
      "metadata": {
        "colab": {
          "base_uri": "https://localhost:8080/",
          "height": 284
        },
        "id": "ZVwsXPf0j611",
        "outputId": "02a59f7d-da1a-4aa6-9ea5-f863022a5ada"
      },
      "source": [
        "train_quality.describe()"
      ],
      "execution_count": 14,
      "outputs": [
        {
          "output_type": "execute_result",
          "data": {
            "text/html": [
              "<div>\n",
              "<style scoped>\n",
              "    .dataframe tbody tr th:only-of-type {\n",
              "        vertical-align: middle;\n",
              "    }\n",
              "\n",
              "    .dataframe tbody tr th {\n",
              "        vertical-align: top;\n",
              "    }\n",
              "\n",
              "    .dataframe thead th {\n",
              "        text-align: right;\n",
              "    }\n",
              "</style>\n",
              "<table border=\"1\" class=\"dataframe\">\n",
              "  <thead>\n",
              "    <tr style=\"text-align: right;\">\n",
              "      <th></th>\n",
              "      <th>time</th>\n",
              "      <th>user_id</th>\n",
              "      <th>quality_0</th>\n",
              "      <th>quality_1</th>\n",
              "      <th>quality_2</th>\n",
              "      <th>quality_3</th>\n",
              "      <th>quality_4</th>\n",
              "      <th>quality_6</th>\n",
              "      <th>quality_11</th>\n",
              "      <th>quality_12</th>\n",
              "    </tr>\n",
              "  </thead>\n",
              "  <tbody>\n",
              "    <tr>\n",
              "      <th>count</th>\n",
              "      <td>8.286240e+05</td>\n",
              "      <td>828624.000000</td>\n",
              "      <td>684192.000000</td>\n",
              "      <td>828624.000000</td>\n",
              "      <td>788511.000000</td>\n",
              "      <td>828624.0</td>\n",
              "      <td>828624.0</td>\n",
              "      <td>828624.000000</td>\n",
              "      <td>828624.000000</td>\n",
              "      <td>828624.000000</td>\n",
              "    </tr>\n",
              "    <tr>\n",
              "      <th>mean</th>\n",
              "      <td>2.020112e+13</td>\n",
              "      <td>17574.678315</td>\n",
              "      <td>4.148701</td>\n",
              "      <td>-0.171782</td>\n",
              "      <td>4.751094</td>\n",
              "      <td>0.0</td>\n",
              "      <td>0.0</td>\n",
              "      <td>2.043391</td>\n",
              "      <td>-0.181638</td>\n",
              "      <td>0.045878</td>\n",
              "    </tr>\n",
              "    <tr>\n",
              "      <th>std</th>\n",
              "      <td>8.863638e+06</td>\n",
              "      <td>4374.113554</td>\n",
              "      <td>479.315029</td>\n",
              "      <td>0.692386</td>\n",
              "      <td>586.252469</td>\n",
              "      <td>0.0</td>\n",
              "      <td>0.0</td>\n",
              "      <td>32.695380</td>\n",
              "      <td>0.397767</td>\n",
              "      <td>0.302452</td>\n",
              "    </tr>\n",
              "    <tr>\n",
              "      <th>min</th>\n",
              "      <td>2.020103e+13</td>\n",
              "      <td>10000.000000</td>\n",
              "      <td>-1.000000</td>\n",
              "      <td>-1.000000</td>\n",
              "      <td>-1.000000</td>\n",
              "      <td>0.0</td>\n",
              "      <td>0.0</td>\n",
              "      <td>-1.000000</td>\n",
              "      <td>-1.000000</td>\n",
              "      <td>0.000000</td>\n",
              "    </tr>\n",
              "    <tr>\n",
              "      <th>25%</th>\n",
              "      <td>2.020111e+13</td>\n",
              "      <td>13685.000000</td>\n",
              "      <td>0.000000</td>\n",
              "      <td>0.000000</td>\n",
              "      <td>0.000000</td>\n",
              "      <td>0.0</td>\n",
              "      <td>0.0</td>\n",
              "      <td>0.000000</td>\n",
              "      <td>0.000000</td>\n",
              "      <td>0.000000</td>\n",
              "    </tr>\n",
              "    <tr>\n",
              "      <th>50%</th>\n",
              "      <td>2.020112e+13</td>\n",
              "      <td>17597.000000</td>\n",
              "      <td>0.000000</td>\n",
              "      <td>0.000000</td>\n",
              "      <td>0.000000</td>\n",
              "      <td>0.0</td>\n",
              "      <td>0.0</td>\n",
              "      <td>0.000000</td>\n",
              "      <td>0.000000</td>\n",
              "      <td>0.000000</td>\n",
              "    </tr>\n",
              "    <tr>\n",
              "      <th>75%</th>\n",
              "      <td>2.020112e+13</td>\n",
              "      <td>21423.000000</td>\n",
              "      <td>0.000000</td>\n",
              "      <td>0.000000</td>\n",
              "      <td>0.000000</td>\n",
              "      <td>0.0</td>\n",
              "      <td>0.0</td>\n",
              "      <td>0.000000</td>\n",
              "      <td>0.000000</td>\n",
              "      <td>0.000000</td>\n",
              "    </tr>\n",
              "    <tr>\n",
              "      <th>max</th>\n",
              "      <td>2.020113e+13</td>\n",
              "      <td>24997.000000</td>\n",
              "      <td>157667.000000</td>\n",
              "      <td>171.000000</td>\n",
              "      <td>191859.000000</td>\n",
              "      <td>0.0</td>\n",
              "      <td>0.0</td>\n",
              "      <td>600.000000</td>\n",
              "      <td>14.000000</td>\n",
              "      <td>14.000000</td>\n",
              "    </tr>\n",
              "  </tbody>\n",
              "</table>\n",
              "</div>"
            ],
            "text/plain": [
              "               time        user_id  ...     quality_11     quality_12\n",
              "count  8.286240e+05  828624.000000  ...  828624.000000  828624.000000\n",
              "mean   2.020112e+13   17574.678315  ...      -0.181638       0.045878\n",
              "std    8.863638e+06    4374.113554  ...       0.397767       0.302452\n",
              "min    2.020103e+13   10000.000000  ...      -1.000000       0.000000\n",
              "25%    2.020111e+13   13685.000000  ...       0.000000       0.000000\n",
              "50%    2.020112e+13   17597.000000  ...       0.000000       0.000000\n",
              "75%    2.020112e+13   21423.000000  ...       0.000000       0.000000\n",
              "max    2.020113e+13   24997.000000  ...      14.000000      14.000000\n",
              "\n",
              "[8 rows x 10 columns]"
            ]
          },
          "metadata": {
            "tags": []
          },
          "execution_count": 14
        }
      ]
    },
    {
      "cell_type": "code",
      "metadata": {
        "colab": {
          "base_uri": "https://localhost:8080/",
          "height": 195
        },
        "id": "kryBI9WQi1P7",
        "outputId": "41436d79-e14f-4711-d982-d2bf4d4395dc"
      },
      "source": [
        "train_problem.head()"
      ],
      "execution_count": 7,
      "outputs": [
        {
          "output_type": "execute_result",
          "data": {
            "text/html": [
              "<div>\n",
              "<style scoped>\n",
              "    .dataframe tbody tr th:only-of-type {\n",
              "        vertical-align: middle;\n",
              "    }\n",
              "\n",
              "    .dataframe tbody tr th {\n",
              "        vertical-align: top;\n",
              "    }\n",
              "\n",
              "    .dataframe thead th {\n",
              "        text-align: right;\n",
              "    }\n",
              "</style>\n",
              "<table border=\"1\" class=\"dataframe\">\n",
              "  <thead>\n",
              "    <tr style=\"text-align: right;\">\n",
              "      <th></th>\n",
              "      <th>user_id</th>\n",
              "      <th>time</th>\n",
              "    </tr>\n",
              "  </thead>\n",
              "  <tbody>\n",
              "    <tr>\n",
              "      <th>0</th>\n",
              "      <td>19224</td>\n",
              "      <td>20201102200000</td>\n",
              "    </tr>\n",
              "    <tr>\n",
              "      <th>1</th>\n",
              "      <td>23664</td>\n",
              "      <td>20201116140000</td>\n",
              "    </tr>\n",
              "    <tr>\n",
              "      <th>2</th>\n",
              "      <td>15166</td>\n",
              "      <td>20201114130000</td>\n",
              "    </tr>\n",
              "    <tr>\n",
              "      <th>3</th>\n",
              "      <td>12590</td>\n",
              "      <td>20201108210000</td>\n",
              "    </tr>\n",
              "    <tr>\n",
              "      <th>4</th>\n",
              "      <td>15932</td>\n",
              "      <td>20201103210000</td>\n",
              "    </tr>\n",
              "  </tbody>\n",
              "</table>\n",
              "</div>"
            ],
            "text/plain": [
              "   user_id            time\n",
              "0    19224  20201102200000\n",
              "1    23664  20201116140000\n",
              "2    15166  20201114130000\n",
              "3    12590  20201108210000\n",
              "4    15932  20201103210000"
            ]
          },
          "metadata": {
            "tags": []
          },
          "execution_count": 7
        }
      ]
    },
    {
      "cell_type": "code",
      "metadata": {
        "id": "j4k5M-C1jJbK"
      },
      "source": [
        ""
      ],
      "execution_count": null,
      "outputs": []
    }
  ]
}